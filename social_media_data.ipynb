{
  "nbformat": 4,
  "nbformat_minor": 0,
  "metadata": {
    "colab": {
      "provenance": [],
      "authorship_tag": "ABX9TyMHhP7WnbE17oD+jOaRr7lu",
      "include_colab_link": true
    },
    "kernelspec": {
      "name": "python3",
      "display_name": "Python 3"
    },
    "language_info": {
      "name": "python"
    }
  },
  "cells": [
    {
      "cell_type": "markdown",
      "metadata": {
        "id": "view-in-github",
        "colab_type": "text"
      },
      "source": [
        "<a href=\"https://colab.research.google.com/github/Dharmik090/stock_market_analysis_based_on_social_media/blob/main/social_media_data.ipynb\" target=\"_parent\"><img src=\"https://colab.research.google.com/assets/colab-badge.svg\" alt=\"Open In Colab\"/></a>"
      ]
    },
    {
      "cell_type": "markdown",
      "source": [
        "# Real time Social media data for Tesla stock related tweets\n"
      ],
      "metadata": {
        "id": "BSGG6mYLBNEe"
      }
    },
    {
      "cell_type": "code",
      "execution_count": 4,
      "metadata": {
        "id": "-kpMIHeOuzml"
      },
      "outputs": [],
      "source": [
        "import tweepy\n",
        "import pandas as pd\n",
        "from vaderSentiment.vaderSentiment import SentimentIntensityAnalyzer"
      ]
    },
    {
      "cell_type": "code",
      "source": [
        "BEARER_TOKEN = 'AAAAAAAAAAAAAAAAAAAAABa5xgEAAAAAzg7GMFrPPNjWTj8OrMhLCpiUmSY%3DOLhIJ6pzt1x3c90TOhkjMqgM1iYA28HPmTBqsAyeH9RSF08G5V'\n",
        "\n",
        "client = tweepy.Client(bearer_token=BEARER_TOKEN)"
      ],
      "metadata": {
        "id": "ToOefccO5BCf"
      },
      "execution_count": null,
      "outputs": []
    },
    {
      "cell_type": "code",
      "source": [
        "import tweepy\n",
        "import pandas as pd\n",
        "from textblob import TextBlob\n",
        "import time\n",
        "\n",
        "stock_ticker = 'Tesla'\n",
        "query = f'{stock_ticker} -is:retweet lang:en'  # Exclude retweets, only English tweets\n",
        "\n",
        "tweet_data = []\n",
        "\n",
        "# Function to fetch tweets\n",
        "def fetch_tweets(query, max_results=50):\n",
        "    try:\n",
        "        # Use the Twitter API to fetch tweets\n",
        "        tweets = client.search_recent_tweets(query=query, tweet_fields=['created_at', 'text'], max_results=max_results)\n",
        "\n",
        "        if tweets.data:\n",
        "            for tweet in tweets.data:\n",
        "                # Perform sentiment analysis using TextBlob\n",
        "                blob = TextBlob(tweet.text)\n",
        "                sentiment = 'positive' if blob.sentiment.polarity > 0 else ('negative' if blob.sentiment.polarity < 0 else 'neutral')\n",
        "\n",
        "                # Append tweet information to the list\n",
        "                tweet_data.append({\n",
        "                    'created_at': tweet.created_at,\n",
        "                    'text': tweet.text,\n",
        "                    'sentiment': sentiment\n",
        "                })\n",
        "\n",
        "    except tweepy.TooManyRequests:\n",
        "        print(\"Rate limit hit. Waiting for 15 minutes...\")\n",
        "        time.sleep(15 * 60)  # Wait for 15 minutes before retrying\n",
        "        fetch_tweets(query, max_results)\n",
        "\n",
        "# Fetch tweets based on the defined query\n",
        "fetch_tweets(query, max_results=50)\n",
        "\n",
        "# Convert the collected tweet data into a pandas DataFrame\n",
        "df = pd.DataFrame(tweet_data)\n",
        "\n",
        "# Display the DataFrame\n",
        "print(df)\n",
        "\n",
        "# Optionally, you can save the DataFrame to a CSV file for later analysis\n",
        "df.to_csv('tesla_tweets_sentiment_2.csv', index=False)\n"
      ],
      "metadata": {
        "colab": {
          "base_uri": "https://localhost:8080/"
        },
        "id": "lrQmwSkY6jur",
        "outputId": "1fa115ad-e67b-484f-ad84-0fbcf96a34ae"
      },
      "execution_count": null,
      "outputs": [
        {
          "output_type": "stream",
          "name": "stdout",
          "text": [
            "Rate limit hit. Waiting for 15 minutes...\n",
            "                  created_at  \\\n",
            "0  2024-12-22 06:59:06+00:00   \n",
            "1  2024-12-22 06:58:57+00:00   \n",
            "2  2024-12-22 06:58:56+00:00   \n",
            "3  2024-12-22 06:58:56+00:00   \n",
            "4  2024-12-22 06:58:55+00:00   \n",
            "5  2024-12-22 06:58:50+00:00   \n",
            "6  2024-12-22 06:58:36+00:00   \n",
            "7  2024-12-22 06:58:30+00:00   \n",
            "8  2024-12-22 06:58:29+00:00   \n",
            "9  2024-12-22 06:58:20+00:00   \n",
            "10 2024-12-22 06:58:15+00:00   \n",
            "11 2024-12-22 06:58:14+00:00   \n",
            "12 2024-12-22 06:58:05+00:00   \n",
            "13 2024-12-22 06:58:00+00:00   \n",
            "14 2024-12-22 06:57:59+00:00   \n",
            "15 2024-12-22 06:57:57+00:00   \n",
            "16 2024-12-22 06:57:54+00:00   \n",
            "17 2024-12-22 06:57:53+00:00   \n",
            "18 2024-12-22 06:57:49+00:00   \n",
            "19 2024-12-22 06:57:49+00:00   \n",
            "20 2024-12-22 06:57:48+00:00   \n",
            "21 2024-12-22 06:57:44+00:00   \n",
            "22 2024-12-22 06:57:42+00:00   \n",
            "23 2024-12-22 06:57:42+00:00   \n",
            "24 2024-12-22 06:57:34+00:00   \n",
            "25 2024-12-22 06:57:30+00:00   \n",
            "26 2024-12-22 06:57:30+00:00   \n",
            "27 2024-12-22 06:57:26+00:00   \n",
            "28 2024-12-22 06:57:13+00:00   \n",
            "29 2024-12-22 06:57:12+00:00   \n",
            "30 2024-12-22 06:57:06+00:00   \n",
            "31 2024-12-22 06:56:58+00:00   \n",
            "32 2024-12-22 06:56:56+00:00   \n",
            "33 2024-12-22 06:56:54+00:00   \n",
            "34 2024-12-22 06:56:48+00:00   \n",
            "35 2024-12-22 06:56:47+00:00   \n",
            "36 2024-12-22 06:56:43+00:00   \n",
            "37 2024-12-22 06:56:39+00:00   \n",
            "38 2024-12-22 06:56:36+00:00   \n",
            "39 2024-12-22 06:56:31+00:00   \n",
            "40 2024-12-22 06:56:31+00:00   \n",
            "41 2024-12-22 06:56:29+00:00   \n",
            "42 2024-12-22 06:56:18+00:00   \n",
            "43 2024-12-22 06:56:11+00:00   \n",
            "44 2024-12-22 06:56:10+00:00   \n",
            "45 2024-12-22 06:56:09+00:00   \n",
            "46 2024-12-22 06:56:05+00:00   \n",
            "47 2024-12-22 06:56:02+00:00   \n",
            "48 2024-12-22 06:55:53+00:00   \n",
            "49 2024-12-22 06:55:52+00:00   \n",
            "\n",
            "                                                 text sentiment  \n",
            "0   @elonmusk @Tesla What is it that you can rewri...   neutral  \n",
            "1   Tesla’s solar products empower individuals to ...  positive  \n",
            "2   @GlenGilmore With 63 million humanoid robots p...  positive  \n",
            "3   It was a self driving car. Tesla malfunctioned...   neutral  \n",
            "4   @zinemagilea @TheOmniLiberal List the trade va...  positive  \n",
            "5   @KhalifKairo @elonmusk Actions speaks Louder. ...  negative  \n",
            "6   @elonmusk @Tesla Head 🗣️! WTF DO I FOCKIN KNOW...  negative  \n",
            "7   @MdeZegher .@AukeHoekstra @electricfelix @ikbe...   neutral  \n",
            "8   What do you think if Trump commissions Pi Open...   neutral  \n",
            "9    @elonmusk @Tesla Why I cannot get a 30min trial?   neutral  \n",
            "10  Why Lucid (LCID) and Carnival (CCL) Are Rallyi...   neutral  \n",
            "11   @elonmusk @Tesla If it's magic. I'm not doing it  positive  \n",
            "12  Looks like I should do more of those posts whe...  positive  \n",
            "13                                  Apple Inc , Tesla   neutral  \n",
            "14  @elonmusk The Ningbo Yinzhou Tesla Service Cen...  negative  \n",
            "15  Tesla's new record stock market high has it wo...  positive  \n",
            "16  @ranig @garyblack00 No, most likely, the Cyber...  negative  \n",
            "17  @robotaxiking Here it is!! https://t.co/GzTYYz...   neutral  \n",
            "18  Tesla's Optimus can't come soon enough. https:...   neutral  \n",
            "19  @0Anamnesis0 @elonmusk If you had the relevant...  positive  \n",
            "20  @TimInHonolulu Stats for 2024. Also, all do Te...   neutral  \n",
            "21  @DefiantLs I thought Tesla’s were electric 🤣du...   neutral  \n",
            "22  @elonmusk @Tesla Props for making it this far ...  positive  \n",
            "23  @elonmusk @Tesla Meh. I'm still on v12, and tb...  positive  \n",
            "24  @mikedyanand @elonmusk @Tesla 1600 miles and a...  positive  \n",
            "25  @ArtCandee Ok either he \"just owns Tesla\" and ...  positive  \n",
            "26  @ThierryBreton @elonmusk Elon Musk built GigaF...  positive  \n",
            "27  @SpecOPSdrummer @LibertyCappy It's also worth ...  positive  \n",
            "28  @LilithLovett I think he could be great, just ...  positive  \n",
            "29  @Ccoyne83 @sideshowbob_md @TedUrchin @elonmusk...  positive  \n",
            "30              @elonmusk @Tesla It is epic, I admit!  positive  \n",
            "31  @kylaschwaberow @Tesla_AI Dang. And that was w...   neutral  \n",
            "32  @elonmusk @Tesla You’ve been saying this for t...  negative  \n",
            "33  @AP Thats not a Tesla. So someone waa driving ...   neutral  \n",
            "34  @elonmusk @Tesla Is that why you want Trump to...  positive  \n",
            "35                          @elonmusk @Tesla Congrats   neutral  \n",
            "36  @FSDdreams @Tesla And you’re having to drive o...  negative  \n",
            "37  @MdeZegher In theory.\\n\\nCould you:\\n\\nHave a ...  negative  \n",
            "38  @Pantone_151 @scotsrule08 You're forgetting (a...  negative  \n",
            "39  @ArtCandee Look here, retard…\\n\\n2024 Recalls\\...  negative  \n",
            "40  Beginning a 3.5 hour road trip at 1 a.m.\\n\\nTh...   neutral  \n",
            "41                       @elonmusk @Tesla Love it!!!!  positive  \n",
            "42  Tesla investor on why he's frustrated with Mus...  negative  \n",
            "43  Ask not what your country can do for you – ask...   neutral  \n",
            "44  @FSDdreams @Tesla That must be like going 10 y...   neutral  \n",
            "45  @introverted1414 @Tesla_AI I started with v12 ...  positive  \n",
            "46  Elon has done a lot with Tesla, X, Starlink an...   neutral  \n",
            "47  @bennyjohnson if she says so it means she also...  positive  \n",
            "48  @BrentM_SpaceX @Tesla @xai @grok Absolute geni...  positive  \n",
            "49  @SawyerMerritt I never get any referrals 😢 \\nh...   neutral  \n"
          ]
        }
      ]
    }
  ]
}